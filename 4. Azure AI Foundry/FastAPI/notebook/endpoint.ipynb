{
 "cells": [
  {
   "cell_type": "code",
   "execution_count": null,
   "id": "49f5b38c",
   "metadata": {},
   "outputs": [
    {
     "name": "stdout",
     "output_type": "stream",
     "text": [
      "b'{\"Output\":\"\\\\ud55c\\\\ud654\\\\uc0dd\\\\uba85 e\\\\uc2dc\\\\uadf8\\\\ub2c8\\\\ucc98\\\\uc554\\\\ubcf4\\\\ud5d8\\\\uc740 \\\\ube44\\\\uac31\\\\uc2e0\\\\ud615 \\\\uc0c1\\\\ud488\\\\uc73c\\\\ub85c \\\\ub2e4\\\\uc591\\\\ud55c \\\\uc554 \\\\ubcf4\\\\uc7a5\\\\uc744 \\\\uc81c\\\\uacf5\\\\ud569\\\\ub2c8\\\\ub2e4. **\\\\uac00\\\\uc785 \\\\ud55c\\\\ub3c4**\\\\ub294 \\\\uc0c1\\\\ud488\\\\ubcc4\\\\ub85c \\\\uc0c1\\\\uc774\\\\ud558\\\\uba70, \\\\uc8fc\\\\uc694 \\\\ud56d\\\\ubaa9\\\\uc740 \\\\ub2e4\\\\uc74c\\\\uacfc \\\\uac19\\\\uc2b5\\\\ub2c8\\\\ub2e4:  \\\\n- \\\\uc9c4\\\\ub2e8\\\\ubcf4\\\\uc7a5: \\\\uc77c\\\\ubc18\\\\uc554(1,000~5,000\\\\ub9cc\\\\uc6d0), \\\\ud2b9\\\\uc815 \\\\uace0\\\\uc561\\\\uc554(1,000~5,000\\\\ub9cc\\\\uc6d0), \\\\uae30\\\\ud0c0\\\\ud53c\\\\ubd80\\\\uc554, \\\\uac11\\\\uc0c1\\\\uc120\\\\uc554 \\\\ub4f1 100~200\\\\ub9cc\\\\uc6d0 \\\\uc9c0\\\\uae09.  \\\\n- \\\\uce58\\\\ub8cc\\\\ubcf4\\\\uc7a5: \\\\uc57d\\\\ubb3c\\\\u2219\\\\ubc29\\\\uc0ac\\\\uc120(200~1,000\\\\ub9cc\\\\uc6d0), \\\\ud1b5\\\\uc6d0\\\\uce58\\\\ub8cc(1\\\\ub9cc\\\\uc6d0~5\\\\ub9cc\\\\uc6d0).  \\\\n\\\\ubcf4\\\\ud5d8\\\\uae08 \\\\uc9c0\\\\uae09\\\\uc740 \\\\uacbd\\\\uacfc\\\\uae30\\\\uac04(2\\\\ub144\\\\ubbf8\\\\ub9cc/2\\\\ub144\\\\uc774\\\\uc0c1)\\\\uc5d0 \\\\ub530\\\\ub77c \\\\ucc28\\\\ub4f1\\\\ub429\\\\ub2c8\\\\ub2e4. \\\\\"\\\\ub300\\\\uc7a5\\\\uc810\\\\ub9c9\\\\ub0b4\\\\uc554\\\\\"\\\\uc740 \\\\\"\\\\uc81c\\\\uc790\\\\ub9ac\\\\uc554\\\\\"\\\\uc5d0 \\\\ud3ec\\\\ud568\\\\ub418\\\\uc9c0 \\\\uc54a\\\\uc2b5\\\\ub2c8\\\\ub2e4. **\\\\uac00\\\\uc785 \\\\uac00\\\\ub2a5 \\\\uc5ec\\\\ubd80**\\\\ub294 \\\\uac74\\\\uac15\\\\uc9c4\\\\ub2e8 \\\\uacb0\\\\uacfc\\\\uc5d0 \\\\uc758\\\\ud574 \\\\uacb0\\\\uc815\\\\ub429\\\\ub2c8\\\\ub2e4.\"}\\n'\n"
     ]
    }
   ],
   "source": [
    "import urllib.request\n",
    "import json\n",
    "\n",
    "# Request data goes here\n",
    "# The example below assumes JSON formatting which may be updated\n",
    "# depending on the format your endpoint expects.\n",
    "# More information can be found here:\n",
    "# https://docs.microsoft.com/azure/machine-learning/how-to-deploy-advanced-entry-script\n",
    "data = {'Query': '암보험'}\n",
    "\n",
    "body = str.encode(json.dumps(data))\n",
    "\n",
    "# Replace this with the primary/secondary key, AMLToken, or Microsoft Entra ID token for the endpoint\n",
    "url = ''\n",
    "api_key = ''\n",
    "if not api_key:\n",
    "    raise Exception(\"A key should be provided to invoke the endpoint\")\n",
    "\n",
    "\n",
    "headers = {'Content-Type':'application/json', 'Accept': 'application/json', 'Authorization':('Bearer '+ api_key)}\n",
    "\n",
    "req = urllib.request.Request(url, body, headers)\n",
    "\n",
    "try:\n",
    "    response = urllib.request.urlopen(req)\n",
    "\n",
    "    result = response.read()\n",
    "    print(result)\n",
    "except urllib.error.HTTPError as error:\n",
    "    print(\"The request failed with status code: \" + str(error.code))\n",
    "\n",
    "    # Print the headers - they include the requert ID and the timestamp, which are useful for debugging the failure\n",
    "    print(error.info())\n",
    "    print(error.read().decode(\"utf8\", 'ignore'))"
   ]
  },
  {
   "cell_type": "code",
   "execution_count": null,
   "id": "87747186",
   "metadata": {},
   "outputs": [],
   "source": []
  },
  {
   "cell_type": "code",
   "execution_count": null,
   "id": "205583d4",
   "metadata": {},
   "outputs": [],
   "source": []
  }
 ],
 "metadata": {
  "kernelspec": {
   "display_name": ".venv",
   "language": "python",
   "name": "python3"
  },
  "language_info": {
   "codemirror_mode": {
    "name": "ipython",
    "version": 3
   },
   "file_extension": ".py",
   "mimetype": "text/x-python",
   "name": "python",
   "nbconvert_exporter": "python",
   "pygments_lexer": "ipython3",
   "version": "3.11.4"
  }
 },
 "nbformat": 4,
 "nbformat_minor": 5
}
