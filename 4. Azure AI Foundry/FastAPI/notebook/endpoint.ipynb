{
 "cells": [
  {
   "cell_type": "code",
   "execution_count": null,
   "id": "49f5b38c",
   "metadata": {},
   "outputs": [
    {
     "name": "stdout",
     "output_type": "stream",
     "text": [
      "{'Output': '한화생명 e시그니처암보험(무배당)은 다양한 암 관련 보장을 제공하며, 보험료는 비갱신형으로 운영됩니다. 주요 보장은 다음과 같습니다:\\n\\n- **e암진단보장보험Ⅱ**: 가입한도 1,000만 원~5,000만 원\\n  - 암 진단자금: 2년 미만 500만 원, 2년 이상 1,000만 원\\n- **소액암, 기타피부암, 중증이외 갑상선암, 대장점막내암 진단자금**: 각각 2년 미만 100만~300만 원, 2년 이상 200만~600만 원\\n- **암 수술, 항암치료, 로봇수술 등**: 세부 가입한도 200만~1,000만 원\\n\\n건강진단 결과에 따라 가입 가능 여부가 판정됩니다.'}\n"
     ]
    }
   ],
   "source": [
    "import requests\n",
    "import json\n",
    "\n",
    "# Request data goes here\n",
    "# The example below assumes JSON formatting which may be updated\n",
    "# depending on the format your endpoint expects.\n",
    "# More information can be found here:\n",
    "# https://docs.microsoft.com/azure/machine-learning/how-to-deploy-advanced-entry-script\n",
    "data = {'Query': '암보험'}\n",
    "\n",
    "body = str.encode(json.dumps(data))\n",
    "\n",
    "# Replace this with the primary/secondary key, AMLToken, or Microsoft Entra ID token for the endpoint\n",
    "url = ''\n",
    "api_key = ''\n",
    "if not api_key:\n",
    "    raise Exception(\"A key should be provided to invoke the endpoint\")\n",
    "\n",
    "headers = {'Content-Type':'application/json', 'Accept': 'application/json', 'Authorization':('Bearer '+ api_key)}\n",
    "\n",
    "try:\n",
    "    req = requests.post(url, data=body, headers=headers)\n",
    "    print(req.json())\n",
    "except Exception as error:\n",
    "    print(\"The request failed with status code: \" + str(req.status_code))\n",
    "    print(\"The request failed with error: \" + str(error))"
   ]
  },
  {
   "cell_type": "code",
   "execution_count": null,
   "id": "87747186",
   "metadata": {},
   "outputs": [],
   "source": []
  },
  {
   "cell_type": "code",
   "execution_count": null,
   "id": "205583d4",
   "metadata": {},
   "outputs": [],
   "source": []
  }
 ],
 "metadata": {
  "kernelspec": {
   "display_name": ".venv",
   "language": "python",
   "name": "python3"
  },
  "language_info": {
   "codemirror_mode": {
    "name": "ipython",
    "version": 3
   },
   "file_extension": ".py",
   "mimetype": "text/x-python",
   "name": "python",
   "nbconvert_exporter": "python",
   "pygments_lexer": "ipython3",
   "version": "3.11.4"
  }
 },
 "nbformat": 4,
 "nbformat_minor": 5
}
