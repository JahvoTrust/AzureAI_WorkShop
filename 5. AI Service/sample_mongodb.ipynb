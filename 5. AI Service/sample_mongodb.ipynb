{
 "cells": [
  {
   "cell_type": "markdown",
   "id": "3582872d",
   "metadata": {},
   "source": [
    "### Azure Cosmos MongoDB 구성\n",
    "<img \n",
    "    src=\"https://learn.microsoft.com/en-us/azure/cosmos-db/mongodb/includes/media/conceptual-object-model/resource-hiearchy.png\"\n",
    "    width=\"50%\"\n",
    "    height=\"50%\"\n",
    "/>"
   ]
  },
  {
   "cell_type": "markdown",
   "id": "194f6782",
   "metadata": {},
   "source": [
    "[코드 참고 링크](https://github.com/Azure-Samples/azure-cosmos-db-mongodb-python-getting-started)"
   ]
  },
  {
   "cell_type": "code",
   "execution_count": 1,
   "id": "8bfc9a7d",
   "metadata": {},
   "outputs": [
    {
     "data": {
      "text/plain": [
       "True"
      ]
     },
     "execution_count": 1,
     "metadata": {},
     "output_type": "execute_result"
    }
   ],
   "source": [
    "import pymongo\n",
    "import os\n",
    "from dotenv import load_dotenv\n",
    "load_dotenv()"
   ]
  },
  {
   "cell_type": "markdown",
   "id": "e86f8d5c",
   "metadata": {},
   "source": [
    "서버 연결 및 닫기"
   ]
  },
  {
   "cell_type": "code",
   "execution_count": 2,
   "id": "2a327cec",
   "metadata": {},
   "outputs": [],
   "source": [
    "connection_string = os.getenv(\"MONGODB_CONNECTION_STRING\")  # 연결 문자열\n",
    "account_name = \"mongodb01\"  # MongoDB 계정 이름 (리소스 이름)"
   ]
  },
  {
   "cell_type": "code",
   "execution_count": 3,
   "id": "c3cb38c1",
   "metadata": {},
   "outputs": [
    {
     "name": "stderr",
     "output_type": "stream",
     "text": [
      "C:\\Users\\Zenuser\\AppData\\Local\\Temp\\ipykernel_7896\\2971548342.py:2: UserWarning: You appear to be connected to a CosmosDB cluster. For more information regarding feature compatibility and support please visit https://www.mongodb.com/supportability/cosmosdb\n",
      "  client = pymongo.MongoClient(connection_string)  # 클라이언트 인증\n"
     ]
    }
   ],
   "source": [
    "# client\n",
    "client = pymongo.MongoClient(connection_string)  # 클라이언트 인증"
   ]
  },
  {
   "cell_type": "code",
   "execution_count": 4,
   "id": "e5825561",
   "metadata": {},
   "outputs": [],
   "source": [
    "# client.close()  # 클라이언트 연결 해제"
   ]
  },
  {
   "cell_type": "markdown",
   "id": "96ac3251",
   "metadata": {},
   "source": [
    "서버 정보 가져오기"
   ]
  },
  {
   "cell_type": "code",
   "execution_count": 5,
   "id": "0500913a",
   "metadata": {},
   "outputs": [
    {
     "name": "stdout",
     "output_type": "stream",
     "text": [
      "Key: version , Value: 7.0.0\n",
      "Key: versionArray , Value: [7, 0, 0, 0]\n",
      "Key: bits , Value: 64\n",
      "Key: maxBsonObjectSize , Value: 16777216\n",
      "Key: ok , Value: 1.0\n",
      "Server status {'ok': 1.0}\n",
      "Databases: []\n"
     ]
    }
   ],
   "source": [
    "# Get server information\n",
    "for k, v in client.server_info().items():\n",
    "    print(\"Key: {} , Value: {}\".format(k, v))\n",
    "\n",
    "# Get server status of admin database\n",
    "print(\"Server status {}\".format(client.admin.command(\"serverStatus\")))\n",
    "\n",
    "# List databases\n",
    "databases = client.list_database_names()\n",
    "print(\"Databases: {}\".format(databases))"
   ]
  },
  {
   "cell_type": "markdown",
   "id": "f84099de",
   "metadata": {},
   "source": [
    "데이터베이스 존재하는지 확인 후, 없으면 새로 만들기"
   ]
  },
  {
   "cell_type": "code",
   "execution_count": 6,
   "id": "aed1ac4e",
   "metadata": {},
   "outputs": [
    {
     "name": "stdout",
     "output_type": "stream",
     "text": [
      "No databases found\n",
      "Created db 'test_db' with shared throughput.\n",
      "\n"
     ]
    }
   ],
   "source": [
    "# Get list of databases\n",
    "databases = client.list_database_names()\n",
    "if not databases:\n",
    "    print(\"No databases found\")\n",
    "\n",
    "# Does database exist?\n",
    "DB_NAME = \"test_db\"\n",
    "if DB_NAME in databases:\n",
    "    print(\"Database exists: {}\".format(DB_NAME))\n",
    "else:\n",
    "    client[DB_NAME].command(\n",
    "        {\"customAction\": \"CreateDatabase\", \"offerThroughput\": 400}\n",
    "    )\n",
    "    print(\"Created db '{}' with shared throughput.\\n\".format(DB_NAME))"
   ]
  },
  {
   "cell_type": "markdown",
   "id": "1fd534e6",
   "metadata": {},
   "source": [
    "컬렉션 존재하는지 확인 후, 없으면 만들기"
   ]
  },
  {
   "cell_type": "code",
   "execution_count": 17,
   "id": "9665b8e6",
   "metadata": {},
   "outputs": [
    {
     "name": "stdout",
     "output_type": "stream",
     "text": [
      "No collections found\n",
      "Created collection 'test_collection' with shared throughput.\n",
      "\n"
     ]
    }
   ],
   "source": [
    "# Get list of collections\n",
    "collections = client[DB_NAME].list_collection_names()\n",
    "if not collections:\n",
    "    print(\"No collections found\")\n",
    "\n",
    "# Does database exist?\n",
    "COLLECTION_NAME = \"test_collection\"\n",
    "if COLLECTION_NAME in databases:\n",
    "    print(\"Collection exists: {}\".format(DB_NAME))\n",
    "else:\n",
    "    client[DB_NAME].create_collection(\n",
    "        name=COLLECTION_NAME, \n",
    "        # maxDocuments=1000, shardKey=\"shardKey\"\n",
    "    )\n",
    "    print(\"Created collection '{}' with shared throughput.\\n\".format(COLLECTION_NAME))"
   ]
  },
  {
   "cell_type": "markdown",
   "id": "06593be3",
   "metadata": {},
   "source": [
    "데이터베이스 및 컬렉션 가져오기"
   ]
  },
  {
   "cell_type": "code",
   "execution_count": 8,
   "id": "73b98740",
   "metadata": {},
   "outputs": [
    {
     "name": "stdout",
     "output_type": "stream",
     "text": [
      "Database(MongoClient(host=['mongodb01.mongo.cosmos.azure.com:10255'], document_class=dict, tz_aware=False, connect=True, replicaset='globaldb', retrywrites=False, maxidletimems=120000, appname='@mongodb01@', tls=True), 'test_db')\n",
      "Collection(Database(MongoClient(host=['mongodb01.mongo.cosmos.azure.com:10255'], document_class=dict, tz_aware=False, connect=True, replicaset='globaldb', retrywrites=False, maxidletimems=120000, appname='@mongodb01@', tls=True), 'test_db'), 'test_collection')\n"
     ]
    }
   ],
   "source": [
    "database = client.get_database(DB_NAME)  # 데이터베이스 가져오기\n",
    "collection = database.get_collection(COLLECTION_NAME)  # 컬렉션 가져오기\n",
    "print(database)\n",
    "print(collection)"
   ]
  },
  {
   "cell_type": "markdown",
   "id": "3f820f6d",
   "metadata": {},
   "source": [
    "[문서 만들기](https://learn.microsoft.com/en-us/azure/cosmos-db/mongodb/tutorial-insert)"
   ]
  },
  {
   "cell_type": "code",
   "execution_count": null,
   "id": "b98cea52",
   "metadata": {},
   "outputs": [
    {
     "name": "stdout",
     "output_type": "stream",
     "text": [
      "Inserted document with id: chat-0001\n",
      "Inserted document with id: chat-0002\n"
     ]
    }
   ],
   "source": [
    "# 문서 1, 2\n",
    "new_documents = [\n",
    "    {\n",
    "        \"_id\": \"chat-0001\",  # _id는 고유값. 추가하지 않으면 자동 생성(ObjectId)\n",
    "        \"username\": \"user01\",\n",
    "        \"user_message\": \"안녕\",\n",
    "        \"ai_massage\": \"안녕하세요! 😊 오늘 어떻게 도와드릴까요?\"\n",
    "    },\n",
    "    {\n",
    "        \"_id\": \"chat-0002\",\n",
    "        \"username\": \"user01\",\n",
    "        \"user_message\": \"넌 누구야?\",\n",
    "        \"ai_massage\": \"저는 OpenAI에서 개발한 AI 도우미입니다! 😊...\"\n",
    "    }\n",
    "]\n",
    "insert_result = collection.insert_many(new_documents)\n",
    "for inserted_id in insert_result.inserted_ids:\n",
    "    print(\"Inserted document with id: {}\".format(inserted_id))"
   ]
  },
  {
   "cell_type": "code",
   "execution_count": 20,
   "id": "0732c030",
   "metadata": {},
   "outputs": [
    {
     "name": "stdout",
     "output_type": "stream",
     "text": [
      "Inserted document with id: chat-0003\n"
     ]
    }
   ],
   "source": [
    "# 문서 3\n",
    "new_document = {\n",
    "    \"_id\": \"chat-0003\",\n",
    "    \"username\": \"user02\",\n",
    "    \"user_message\": \"안녕\",\n",
    "    \"ai_massage\": \"안녕하세요!\"\n",
    "}\n",
    "insert = collection.insert_one(new_document)\n",
    "print(\"Inserted document with id: {}\".format(insert.inserted_id))"
   ]
  },
  {
   "cell_type": "markdown",
   "id": "346c3121",
   "metadata": {},
   "source": [
    "문서 읽기"
   ]
  },
  {
   "cell_type": "code",
   "execution_count": null,
   "id": "dced0197",
   "metadata": {},
   "outputs": [
    {
     "name": "stdout",
     "output_type": "stream",
     "text": [
      "{'_id': 'chat-0002', 'username': 'user01', 'user_message': '넌 누구야?', 'ai_massage': '저는 OpenAI에서 개발한 AI 도우미입니다! 😊...'}\n"
     ]
    }
   ],
   "source": [
    "filter_1 = {\n",
    "    \"_id\": \"chat-0002\",\n",
    "}\n",
    "existing_document = collection.find_one(filter_1)  # 문서 하나\n",
    "print(existing_document)"
   ]
  },
  {
   "cell_type": "code",
   "execution_count": null,
   "id": "686c2082",
   "metadata": {},
   "outputs": [
    {
     "name": "stdout",
     "output_type": "stream",
     "text": [
      "{'_id': 'chat-0001', 'username': 'user01', 'user_message': '안녕', 'ai_massage': '안녕하세요! 😊 오늘 어떻게 도와드릴까요?'}\n",
      "{'_id': 'chat-0002', 'username': 'user01', 'user_message': '넌 누구야?', 'ai_massage': '저는 OpenAI에서 개발한 AI 도우미입니다! 😊...'}\n"
     ]
    }
   ],
   "source": [
    "filter_2 = {\n",
    "    \"username\": \"user01\"\n",
    "}\n",
    "matched_documents = collection.find(filter_2)  # 여러 문서\n",
    "for document in matched_documents:\n",
    "    print(document)"
   ]
  },
  {
   "cell_type": "markdown",
   "id": "eb3856a7",
   "metadata": {},
   "source": [
    "[문서 업데이트](https://learn.microsoft.com/en-us/azure/cosmos-db/mongodb/tutorial-update)"
   ]
  },
  {
   "cell_type": "code",
   "execution_count": 25,
   "id": "fc7e0d50",
   "metadata": {},
   "outputs": [
    {
     "data": {
      "text/plain": [
       "UpdateResult({'n': 1, 'nModified': 1, 'ok': 1.0, 'updatedExisting': True}, acknowledged=True)"
      ]
     },
     "execution_count": 25,
     "metadata": {},
     "output_type": "execute_result"
    }
   ],
   "source": [
    "collection.update_one(\n",
    "    { \"_id\": \"chat-0003\" },\n",
    "    { \"$set\": { \"username\": \"user10\" } }\n",
    ")"
   ]
  },
  {
   "cell_type": "markdown",
   "id": "af6fd6f9",
   "metadata": {},
   "source": [
    "[문서 삭제](https://learn.microsoft.com/en-us/azure/cosmos-db/mongodb/tutorial-delete)"
   ]
  },
  {
   "cell_type": "code",
   "execution_count": 26,
   "id": "1f10b898",
   "metadata": {},
   "outputs": [
    {
     "data": {
      "text/plain": [
       "DeleteResult({'n': 1, 'ok': 1.0}, acknowledged=True)"
      ]
     },
     "execution_count": 26,
     "metadata": {},
     "output_type": "execute_result"
    }
   ],
   "source": [
    "collection.delete_one({ \"username\": \"user10\" })"
   ]
  },
  {
   "cell_type": "markdown",
   "id": "aeae39c4",
   "metadata": {},
   "source": [
    "데이터베이스 및 컬렉션 문서 수 목록 가져오기"
   ]
  },
  {
   "cell_type": "code",
   "execution_count": 27,
   "id": "cf78f10c",
   "metadata": {},
   "outputs": [
    {
     "name": "stdout",
     "output_type": "stream",
     "text": [
      "Database: test_db\n",
      "\tCollection: test_collection\n",
      "\tDocument count: 2\n"
     ]
    }
   ],
   "source": [
    "# Get list of databases\n",
    "databases = client.list_database_names()\n",
    "\n",
    "# Loop through databases\n",
    "for db in databases:\n",
    "    print(\"Database: {}\".format(db))\n",
    "\n",
    "    # Get list of collections\n",
    "    collections = client[db].list_collection_names()\n",
    "\n",
    "    # Loop through collections\n",
    "    for col in collections:\n",
    "        print(\"\\tCollection: {}\".format(col))\n",
    "\n",
    "        # Get document count\n",
    "        doc_count = client[db][col].count_documents({})\n",
    "        print(\"\\tDocument count: {}\".format(doc_count))"
   ]
  },
  {
   "cell_type": "markdown",
   "id": "5a56dfe1",
   "metadata": {},
   "source": [
    "컬렉션 삭제"
   ]
  },
  {
   "cell_type": "code",
   "execution_count": null,
   "id": "484de1b2",
   "metadata": {},
   "outputs": [
    {
     "name": "stdout",
     "output_type": "stream",
     "text": [
      "Dropping collection: test_collection\n"
     ]
    }
   ],
   "source": [
    "if COLLECTION_NAME in client[DB_NAME].list_collection_names():\n",
    "    print(\"Dropping collection: {}\".format(COLLECTION_NAME))\n",
    "    client[DB_NAME].drop_collection(COLLECTION_NAME)\n",
    "else:\n",
    "    print(\"Didn't find database: {}\".format(COLLECTION_NAME))"
   ]
  },
  {
   "cell_type": "markdown",
   "id": "36069adb",
   "metadata": {},
   "source": [
    "데이터베이스 삭제"
   ]
  },
  {
   "cell_type": "code",
   "execution_count": null,
   "id": "6e70227c",
   "metadata": {},
   "outputs": [
    {
     "name": "stdout",
     "output_type": "stream",
     "text": [
      "Dropping database: test_db\n"
     ]
    }
   ],
   "source": [
    "if DB_NAME in client.list_database_names():\n",
    "    print(\"Dropping database: {}\".format(DB_NAME))\n",
    "    client.drop_database(DB_NAME)\n",
    "else:\n",
    "    print(\"Didn't find database: {}\".format(DB_NAME))"
   ]
  }
 ],
 "metadata": {
  "kernelspec": {
   "display_name": ".venv",
   "language": "python",
   "name": "python3"
  },
  "language_info": {
   "codemirror_mode": {
    "name": "ipython",
    "version": 3
   },
   "file_extension": ".py",
   "mimetype": "text/x-python",
   "name": "python",
   "nbconvert_exporter": "python",
   "pygments_lexer": "ipython3",
   "version": "3.11.4"
  }
 },
 "nbformat": 4,
 "nbformat_minor": 5
}
