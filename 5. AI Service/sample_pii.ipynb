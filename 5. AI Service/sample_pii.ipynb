{
 "cells": [
  {
   "cell_type": "code",
   "execution_count": 1,
   "id": "476a7fe1",
   "metadata": {},
   "outputs": [
    {
     "data": {
      "text/plain": [
       "True"
      ]
     },
     "execution_count": 1,
     "metadata": {},
     "output_type": "execute_result"
    }
   ],
   "source": [
    "import os\n",
    "from azure.ai.textanalytics import TextAnalyticsClient\n",
    "from azure.core.credentials import AzureKeyCredential\n",
    "from dotenv import load_dotenv\n",
    "load_dotenv()"
   ]
  },
  {
   "cell_type": "code",
   "execution_count": 2,
   "id": "c1f219fe",
   "metadata": {},
   "outputs": [],
   "source": [
    "# This example requires environment variables named \"LANGUAGE_KEY\" and \"LANGUAGE_ENDPOINT\"\n",
    "language_endpoint = os.getenv(\"CONTENT_SAFETY_ENDPOINT\")\n",
    "language_key = os.getenv(\"CONTENT_SAFETY_KEY\")"
   ]
  },
  {
   "cell_type": "markdown",
   "id": "11791798",
   "metadata": {},
   "source": [
    "함수 정의"
   ]
  },
  {
   "cell_type": "code",
   "execution_count": 3,
   "id": "cc519ba4",
   "metadata": {},
   "outputs": [],
   "source": [
    "# Authenticate the client using your key and endpoint \n",
    "def authenticate_client():\n",
    "    ta_credential = AzureKeyCredential(language_key)\n",
    "    text_analytics_client = TextAnalyticsClient(\n",
    "            endpoint=language_endpoint, \n",
    "            credential=ta_credential)\n",
    "    return text_analytics_client\n",
    "\n",
    "# Example method for detecting sensitive information (PII) from text \n",
    "def pii_recognition_example(client, documents):\n",
    "    response = client.recognize_pii_entities(documents, language=\"en\")\n",
    "    result = [doc for doc in response if not doc.is_error]\n",
    "    for doc in result:\n",
    "        print(\"Redacted Text: {}\".format(doc.redacted_text))\n",
    "        for entity in doc.entities:\n",
    "            print(\"Entity: {}\".format(entity.text))\n",
    "            print(\"\\tCategory: {}\".format(entity.category))\n",
    "            print(\"\\tConfidence Score: {}\".format(entity.confidence_score))\n",
    "            print(\"\\tOffset: {}\".format(entity.offset))\n",
    "            print(\"\\tLength: {}\".format(entity.length))"
   ]
  },
  {
   "cell_type": "markdown",
   "id": "dc5dae6a",
   "metadata": {},
   "source": [
    "실행"
   ]
  },
  {
   "cell_type": "code",
   "execution_count": 4,
   "id": "fb5dfdd3",
   "metadata": {},
   "outputs": [
    {
     "name": "stdout",
     "output_type": "stream",
     "text": [
      "Redacted Text: The ********'s SSN is ***********.\n",
      "Entity: employee\n",
      "\tCategory: PersonType\n",
      "\tConfidence Score: 0.97\n",
      "\tOffset: 4\n",
      "\tLength: 8\n",
      "Entity: 859-98-0987\n",
      "\tCategory: USSocialSecurityNumber\n",
      "\tConfidence Score: 0.85\n",
      "\tOffset: 22\n",
      "\tLength: 11\n",
      "Redacted Text: The ********'s phone number is ************.\n",
      "Entity: employee\n",
      "\tCategory: PersonType\n",
      "\tConfidence Score: 0.98\n",
      "\tOffset: 4\n",
      "\tLength: 8\n",
      "Entity: 555-555-5555\n",
      "\tCategory: PhoneNumber\n",
      "\tConfidence Score: 0.8\n",
      "\tOffset: 31\n",
      "\tLength: 12\n",
      "Redacted Text: ** 이름은 ***이고 전화번호는 010-1234-5678입니다.\n",
      "Entity: 고객\n",
      "\tCategory: PersonType\n",
      "\tConfidence Score: 0.85\n",
      "\tOffset: 0\n",
      "\tLength: 2\n",
      "Entity: 김민수\n",
      "\tCategory: Person\n",
      "\tConfidence Score: 1.0\n",
      "\tOffset: 7\n",
      "\tLength: 3\n"
     ]
    }
   ],
   "source": [
    "client = authenticate_client()\n",
    "documents = [\n",
    "    \"The employee's SSN is 859-98-0987.\",\n",
    "    \"The employee's phone number is 555-555-5555.\",\n",
    "    \"고객 이름은 김민수이고 전화번호는 010-1234-5678입니다.\"\n",
    "]\n",
    "pii_recognition_example(client, documents)"
   ]
  }
 ],
 "metadata": {
  "kernelspec": {
   "display_name": ".venv",
   "language": "python",
   "name": "python3"
  },
  "language_info": {
   "codemirror_mode": {
    "name": "ipython",
    "version": 3
   },
   "file_extension": ".py",
   "mimetype": "text/x-python",
   "name": "python",
   "nbconvert_exporter": "python",
   "pygments_lexer": "ipython3",
   "version": "3.11.4"
  }
 },
 "nbformat": 4,
 "nbformat_minor": 5
}
